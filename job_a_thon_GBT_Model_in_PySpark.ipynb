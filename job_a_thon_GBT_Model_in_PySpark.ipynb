{
  "nbformat": 4,
  "nbformat_minor": 0,
  "metadata": {
    "colab": {
      "name": "job_a_thon_GBT_Model_in_PySpark.ipynb",
      "provenance": []
    },
    "kernelspec": {
      "name": "python3",
      "display_name": "Python 3"
    }
  },
  "cells": [
    {
      "cell_type": "markdown",
      "metadata": {
        "id": "JhKpjqZRKuQ5"
      },
      "source": [
        "Installing Hadoop and java packages required to run pyspark in Google Colab"
      ]
    },
    {
      "cell_type": "code",
      "metadata": {
        "id": "VIdzhxVqcfis"
      },
      "source": [
        "!apt-get install openjdk-8-jdk-headless -qq > /dev/null\n",
        "# !wget -q spark-3.0.2-bin-hadoop3.2.tgz\n",
        "!tar xf /content/drive/MyDrive/job-a-thon/spark-3.0.2-bin-hadoop3.2.tgz\n",
        "!pip install -q findspark"
      ],
      "execution_count": null,
      "outputs": []
    },
    {
      "cell_type": "markdown",
      "metadata": {
        "id": "CbIdpX-lLNjW"
      },
      "source": [
        "# PySpark "
      ]
    },
    {
      "cell_type": "code",
      "metadata": {
        "colab": {
          "base_uri": "https://localhost:8080/",
          "height": 35
        },
        "id": "4g7zSXLeDuHa",
        "outputId": "f2c4ba2f-fc30-43cb-b28f-30c6075cdcd9"
      },
      "source": [
        "import os\n",
        "os.environ[\"JAVA_HOME\"] = \"/usr/lib/jvm/java-8-openjdk-amd64\"\n",
        "os.environ[\"SPARK_HOME\"] = \"/content/spark-3.0.2-bin-hadoop3.2\"\n",
        "import findspark\n",
        "findspark.init()\n",
        "findspark.find()"
      ],
      "execution_count": null,
      "outputs": [
        {
          "output_type": "execute_result",
          "data": {
            "application/vnd.google.colaboratory.intrinsic+json": {
              "type": "string"
            },
            "text/plain": [
              "'/content/spark-3.0.2-bin-hadoop3.2'"
            ]
          },
          "metadata": {
            "tags": []
          },
          "execution_count": 2
        }
      ]
    },
    {
      "cell_type": "code",
      "metadata": {
        "id": "TbT77SgGczZV"
      },
      "source": [
        "from pyspark.sql import SparkSession\n",
        "\n",
        "spark = SparkSession.builder\\\n",
        "        .master(\"local\")\\\n",
        "        .appName(\"Colab\")\\\n",
        "        .config('spark.ui.port', '4050')\\\n",
        "        .getOrCreate()"
      ],
      "execution_count": null,
      "outputs": []
    },
    {
      "cell_type": "markdown",
      "metadata": {
        "id": "MUCTlawHLVrc"
      },
      "source": [
        "# Packages required"
      ]
    },
    {
      "cell_type": "code",
      "metadata": {
        "id": "6OtPIFGRGVJR"
      },
      "source": [
        "from pyspark.sql.functions import *\n",
        "from pyspark.sql.functions import mean as _mean\n",
        "from pyspark.sql.types import IntegerType,DoubleType\n",
        "from pyspark.sql.types import StringType\n",
        "from pyspark.ml import Pipeline\n",
        "from pyspark.ml.feature import VectorAssembler\n",
        "from pyspark.ml.feature import MinMaxScaler"
      ],
      "execution_count": null,
      "outputs": []
    },
    {
      "cell_type": "markdown",
      "metadata": {
        "id": "wJemzikzLbaC"
      },
      "source": [
        "# Train and Test dataset location "
      ]
    },
    {
      "cell_type": "code",
      "metadata": {
        "id": "7N6YtGY-GCcs"
      },
      "source": [
        "PATH_TO_SAMPLE_SUBMISSION = '/content/drive/MyDrive/job-a-thon/sample_submission.csv'\n",
        "PATH_TO_TEST = '/content/drive/MyDrive/job-a-thon/test.csv'\n",
        "PATH_TO_TRAIN = '/content/drive/MyDrive/job-a-thon/train.csv'"
      ],
      "execution_count": null,
      "outputs": []
    },
    {
      "cell_type": "markdown",
      "metadata": {
        "id": "JOgivfCJLfL0"
      },
      "source": [
        "# Data Preprocessing"
      ]
    },
    {
      "cell_type": "code",
      "metadata": {
        "id": "l8k80f98c6n0",
        "colab": {
          "base_uri": "https://localhost:8080/"
        },
        "outputId": "367838c4-449c-4a0b-c30d-11e436aa2a8d"
      },
      "source": [
        "train = spark.read.csv(PATH_TO_TRAIN, header=True, inferSchema=True)\n",
        "test = spark.read.csv(PATH_TO_TEST, header=True, inferSchema=True)\n",
        "sample = spark.read.csv(PATH_TO_SAMPLE_SUBMISSION,header=True,inferSchema=True)\n",
        "train.printSchema()"
      ],
      "execution_count": null,
      "outputs": [
        {
          "output_type": "stream",
          "text": [
            "root\n",
            " |-- ID: integer (nullable = true)\n",
            " |-- City_Code: string (nullable = true)\n",
            " |-- Region_Code: integer (nullable = true)\n",
            " |-- Accomodation_Type: string (nullable = true)\n",
            " |-- Reco_Insurance_Type: string (nullable = true)\n",
            " |-- Upper_Age: integer (nullable = true)\n",
            " |-- Lower_Age: integer (nullable = true)\n",
            " |-- Is_Spouse: string (nullable = true)\n",
            " |-- Health Indicator: string (nullable = true)\n",
            " |-- Holding_Policy_Duration: string (nullable = true)\n",
            " |-- Holding_Policy_Type: double (nullable = true)\n",
            " |-- Reco_Policy_Cat: integer (nullable = true)\n",
            " |-- Reco_Policy_Premium: double (nullable = true)\n",
            " |-- Response: integer (nullable = true)\n",
            "\n"
          ],
          "name": "stdout"
        }
      ]
    },
    {
      "cell_type": "markdown",
      "metadata": {
        "id": "d--tZO6hLngw"
      },
      "source": [
        "feature_columns: for collecting features from various stages of data exploration "
      ]
    },
    {
      "cell_type": "code",
      "metadata": {
        "id": "d8vY05ViwVmh"
      },
      "source": [
        "feature_columns = []"
      ],
      "execution_count": null,
      "outputs": []
    },
    {
      "cell_type": "markdown",
      "metadata": {
        "id": "4hvry7ByLz0g"
      },
      "source": [
        "# Train : Preview"
      ]
    },
    {
      "cell_type": "code",
      "metadata": {
        "id": "MoUQXt16dAiF",
        "colab": {
          "base_uri": "https://localhost:8080/",
          "height": 483
        },
        "outputId": "31c67520-d689-4118-d30a-88f1913e0ac1"
      },
      "source": [
        "import pandas as pd\n",
        "pd.DataFrame(train.take(5), columns=train.columns).transpose()"
      ],
      "execution_count": null,
      "outputs": [
        {
          "output_type": "execute_result",
          "data": {
            "text/html": [
              "<div>\n",
              "<style scoped>\n",
              "    .dataframe tbody tr th:only-of-type {\n",
              "        vertical-align: middle;\n",
              "    }\n",
              "\n",
              "    .dataframe tbody tr th {\n",
              "        vertical-align: top;\n",
              "    }\n",
              "\n",
              "    .dataframe thead th {\n",
              "        text-align: right;\n",
              "    }\n",
              "</style>\n",
              "<table border=\"1\" class=\"dataframe\">\n",
              "  <thead>\n",
              "    <tr style=\"text-align: right;\">\n",
              "      <th></th>\n",
              "      <th>0</th>\n",
              "      <th>1</th>\n",
              "      <th>2</th>\n",
              "      <th>3</th>\n",
              "      <th>4</th>\n",
              "    </tr>\n",
              "  </thead>\n",
              "  <tbody>\n",
              "    <tr>\n",
              "      <th>ID</th>\n",
              "      <td>1</td>\n",
              "      <td>2</td>\n",
              "      <td>3</td>\n",
              "      <td>4</td>\n",
              "      <td>5</td>\n",
              "    </tr>\n",
              "    <tr>\n",
              "      <th>City_Code</th>\n",
              "      <td>C3</td>\n",
              "      <td>C5</td>\n",
              "      <td>C5</td>\n",
              "      <td>C24</td>\n",
              "      <td>C8</td>\n",
              "    </tr>\n",
              "    <tr>\n",
              "      <th>Region_Code</th>\n",
              "      <td>3213</td>\n",
              "      <td>1117</td>\n",
              "      <td>3732</td>\n",
              "      <td>4378</td>\n",
              "      <td>2190</td>\n",
              "    </tr>\n",
              "    <tr>\n",
              "      <th>Accomodation_Type</th>\n",
              "      <td>Rented</td>\n",
              "      <td>Owned</td>\n",
              "      <td>Owned</td>\n",
              "      <td>Owned</td>\n",
              "      <td>Rented</td>\n",
              "    </tr>\n",
              "    <tr>\n",
              "      <th>Reco_Insurance_Type</th>\n",
              "      <td>Individual</td>\n",
              "      <td>Joint</td>\n",
              "      <td>Individual</td>\n",
              "      <td>Joint</td>\n",
              "      <td>Individual</td>\n",
              "    </tr>\n",
              "    <tr>\n",
              "      <th>Upper_Age</th>\n",
              "      <td>36</td>\n",
              "      <td>75</td>\n",
              "      <td>32</td>\n",
              "      <td>52</td>\n",
              "      <td>44</td>\n",
              "    </tr>\n",
              "    <tr>\n",
              "      <th>Lower_Age</th>\n",
              "      <td>36</td>\n",
              "      <td>22</td>\n",
              "      <td>32</td>\n",
              "      <td>48</td>\n",
              "      <td>44</td>\n",
              "    </tr>\n",
              "    <tr>\n",
              "      <th>Is_Spouse</th>\n",
              "      <td>No</td>\n",
              "      <td>No</td>\n",
              "      <td>No</td>\n",
              "      <td>No</td>\n",
              "      <td>No</td>\n",
              "    </tr>\n",
              "    <tr>\n",
              "      <th>Health Indicator</th>\n",
              "      <td>X1</td>\n",
              "      <td>X2</td>\n",
              "      <td>None</td>\n",
              "      <td>X1</td>\n",
              "      <td>X2</td>\n",
              "    </tr>\n",
              "    <tr>\n",
              "      <th>Holding_Policy_Duration</th>\n",
              "      <td>14+</td>\n",
              "      <td>None</td>\n",
              "      <td>1.0</td>\n",
              "      <td>14+</td>\n",
              "      <td>3.0</td>\n",
              "    </tr>\n",
              "    <tr>\n",
              "      <th>Holding_Policy_Type</th>\n",
              "      <td>3</td>\n",
              "      <td>NaN</td>\n",
              "      <td>1</td>\n",
              "      <td>3</td>\n",
              "      <td>1</td>\n",
              "    </tr>\n",
              "    <tr>\n",
              "      <th>Reco_Policy_Cat</th>\n",
              "      <td>22</td>\n",
              "      <td>22</td>\n",
              "      <td>19</td>\n",
              "      <td>19</td>\n",
              "      <td>16</td>\n",
              "    </tr>\n",
              "    <tr>\n",
              "      <th>Reco_Policy_Premium</th>\n",
              "      <td>11628</td>\n",
              "      <td>30510</td>\n",
              "      <td>7450</td>\n",
              "      <td>17780</td>\n",
              "      <td>10404</td>\n",
              "    </tr>\n",
              "    <tr>\n",
              "      <th>Response</th>\n",
              "      <td>0</td>\n",
              "      <td>0</td>\n",
              "      <td>1</td>\n",
              "      <td>0</td>\n",
              "      <td>0</td>\n",
              "    </tr>\n",
              "  </tbody>\n",
              "</table>\n",
              "</div>"
            ],
            "text/plain": [
              "                                  0      1           2      3           4\n",
              "ID                                1      2           3      4           5\n",
              "City_Code                        C3     C5          C5    C24          C8\n",
              "Region_Code                    3213   1117        3732   4378        2190\n",
              "Accomodation_Type            Rented  Owned       Owned  Owned      Rented\n",
              "Reco_Insurance_Type      Individual  Joint  Individual  Joint  Individual\n",
              "Upper_Age                        36     75          32     52          44\n",
              "Lower_Age                        36     22          32     48          44\n",
              "Is_Spouse                        No     No          No     No          No\n",
              "Health Indicator                 X1     X2        None     X1          X2\n",
              "Holding_Policy_Duration         14+   None         1.0    14+         3.0\n",
              "Holding_Policy_Type               3    NaN           1      3           1\n",
              "Reco_Policy_Cat                  22     22          19     19          16\n",
              "Reco_Policy_Premium           11628  30510        7450  17780       10404\n",
              "Response                          0      0           1      0           0"
            ]
          },
          "metadata": {
            "tags": []
          },
          "execution_count": 9
        }
      ]
    },
    {
      "cell_type": "markdown",
      "metadata": {
        "id": "xBLY1gxbG2PO"
      },
      "source": [
        "## Checking for missing values for Train and test"
      ]
    },
    {
      "cell_type": "code",
      "metadata": {
        "colab": {
          "base_uri": "https://localhost:8080/"
        },
        "id": "dW8hKwH-Gu0k",
        "outputId": "3c8a62e1-8136-4d28-c338-37224d37da58"
      },
      "source": [
        "amount_missing_train = train.select([(count(when(isnan(c) | col(c).isNull(), c))/count(lit(1))).alias(c) for c in train.columns])\n",
        "amount_missing_train.show()"
      ],
      "execution_count": null,
      "outputs": [
        {
          "output_type": "stream",
          "text": [
            "+---+---------+-----------+-----------------+-------------------+---------+---------+---------+------------------+-----------------------+-------------------+---------------+-------------------+--------+\n",
            "| ID|City_Code|Region_Code|Accomodation_Type|Reco_Insurance_Type|Upper_Age|Lower_Age|Is_Spouse|  Health Indicator|Holding_Policy_Duration|Holding_Policy_Type|Reco_Policy_Cat|Reco_Policy_Premium|Response|\n",
            "+---+---------+-----------+-----------------+-------------------+---------+---------+---------+------------------+-----------------------+-------------------+---------------+-------------------+--------+\n",
            "|0.0|      0.0|        0.0|              0.0|                0.0|      0.0|      0.0|      0.0|0.2297669116780001|     0.3979992924806415| 0.3979992924806415|            0.0|                0.0|     0.0|\n",
            "+---+---------+-----------+-----------------+-------------------+---------+---------+---------+------------------+-----------------------+-------------------+---------------+-------------------+--------+\n",
            "\n"
          ],
          "name": "stdout"
        }
      ]
    },
    {
      "cell_type": "code",
      "metadata": {
        "colab": {
          "base_uri": "https://localhost:8080/"
        },
        "id": "3tmGF3aaG07x",
        "outputId": "fdc82300-668d-4f58-a8e0-de426c08baba"
      },
      "source": [
        "amount_missing_test = test.select([(count(when(isnan(c) | col(c).isNull(), c))/count(lit(1))).alias(c) for c in test.columns])\n",
        "amount_missing_test.show()"
      ],
      "execution_count": null,
      "outputs": [
        {
          "output_type": "stream",
          "text": [
            "+---+---------+-----------+-----------------+-------------------+---------+---------+---------+-------------------+-----------------------+-------------------+---------------+-------------------+\n",
            "| ID|City_Code|Region_Code|Accomodation_Type|Reco_Insurance_Type|Upper_Age|Lower_Age|Is_Spouse|   Health Indicator|Holding_Policy_Duration|Holding_Policy_Type|Reco_Policy_Cat|Reco_Policy_Premium|\n",
            "+---+---------+-----------+-----------------+-------------------+---------+---------+---------+-------------------+-----------------------+-------------------+---------------+-------------------+\n",
            "|0.0|      0.0|        0.0|              0.0|                0.0|      0.0|      0.0|      0.0|0.23054345333639073|    0.39454253611556983|0.39454253611556983|            0.0|                0.0|\n",
            "+---+---------+-----------+-----------------+-------------------+---------+---------+---------+-------------------+-----------------------+-------------------+---------------+-------------------+\n",
            "\n"
          ],
          "name": "stdout"
        }
      ]
    },
    {
      "cell_type": "markdown",
      "metadata": {
        "id": "doGuJJSlMJle"
      },
      "source": [
        "Imputing missing values"
      ]
    },
    {
      "cell_type": "code",
      "metadata": {
        "id": "SqeAxvkcG9Lh"
      },
      "source": [
        "missing_value_column = {'Health Indicator': 'Unknown', 'Holding_Policy_Type':0.0,'Holding_Policy_Duration':0}"
      ],
      "execution_count": null,
      "outputs": []
    },
    {
      "cell_type": "code",
      "metadata": {
        "id": "9NOASJtUHD0y"
      },
      "source": [
        "train = train.fillna(missing_value_column)\n",
        "test = test.fillna(missing_value_column)"
      ],
      "execution_count": null,
      "outputs": []
    },
    {
      "cell_type": "markdown",
      "metadata": {
        "id": "EC1unBcUHG92"
      },
      "source": [
        "#Feature Exploring"
      ]
    },
    {
      "cell_type": "markdown",
      "metadata": {
        "id": "krjMQSLkHa_W"
      },
      "source": [
        "##Age of the customer\n",
        "**Upper_Age** and \n",
        "**Lower_Age**"
      ]
    },
    {
      "cell_type": "code",
      "metadata": {
        "id": "7EJEEoLmILSn"
      },
      "source": [
        "train = train.withColumn('Age_diff',col('Upper_Age') - col('Lower_Age'))\n",
        "test = test.withColumn('Age_diff',col('Upper_Age') - col('Lower_Age'))\n",
        "feature_columns.append('Age_diff')\n",
        "feature_columns.append('Upper_Age')\n",
        "feature_columns.append('Lower_Age')"
      ],
      "execution_count": null,
      "outputs": []
    },
    {
      "cell_type": "markdown",
      "metadata": {
        "id": "21fDCeZaMPBe"
      },
      "source": [
        "# Understanding dataset"
      ]
    },
    {
      "cell_type": "code",
      "metadata": {
        "colab": {
          "base_uri": "https://localhost:8080/"
        },
        "id": "3eRWKW-PIHLf",
        "outputId": "97e1d18e-7bd8-42d1-9288-59d720cdadc8"
      },
      "source": [
        "train.groupBy('Reco_Insurance_Type','Is_Spouse','Response').count().show()"
      ],
      "execution_count": null,
      "outputs": [
        {
          "output_type": "stream",
          "text": [
            "+-------------------+---------+--------+-----+\n",
            "|Reco_Insurance_Type|Is_Spouse|Response|count|\n",
            "+-------------------+---------+--------+-----+\n",
            "|              Joint|       No|       0| 1407|\n",
            "|              Joint|      Yes|       0| 6370|\n",
            "|         Individual|       No|       1| 9640|\n",
            "|         Individual|       No|       0|30896|\n",
            "|              Joint|       No|       1|  517|\n",
            "|              Joint|      Yes|       1| 2052|\n",
            "+-------------------+---------+--------+-----+\n",
            "\n"
          ],
          "name": "stdout"
        }
      ]
    },
    {
      "cell_type": "code",
      "metadata": {
        "colab": {
          "base_uri": "https://localhost:8080/"
        },
        "id": "RG7MrziEIbYa",
        "outputId": "558b46cf-3da5-4cdb-cbaf-5946a1a4a3c3"
      },
      "source": [
        "train.filter(train.Reco_Insurance_Type=='Joint').groupby('Response').mean().show()"
      ],
      "execution_count": null,
      "outputs": [
        {
          "output_type": "stream",
          "text": [
            "+--------+------------------+------------------+------------------+-----------------+------------------------+--------------------+------------------------+-------------+------------------+\n",
            "|Response|           avg(ID)|  avg(Region_Code)|    avg(Upper_Age)|   avg(Lower_Age)|avg(Holding_Policy_Type)|avg(Reco_Policy_Cat)|avg(Reco_Policy_Premium)|avg(Response)|     avg(Age_diff)|\n",
            "+--------+------------------+------------------+------------------+-----------------+------------------------+--------------------+------------------------+-------------+------------------+\n",
            "|       1|   25533.349552355|1698.2335539120281|52.294277929155314|41.51810042818217|      1.7816270922537953|  16.661346827559363|       21994.75204359671|          1.0| 10.77617750097314|\n",
            "|       0|25082.185804294717|1728.1735887874502|52.751832326089755|42.45814581458146|      1.7914362864857913|  14.952166645235952|      21949.095460974746|          0.0|10.293686511508295|\n",
            "+--------+------------------+------------------+------------------+-----------------+------------------------+--------------------+------------------------+-------------+------------------+\n",
            "\n"
          ],
          "name": "stdout"
        }
      ]
    },
    {
      "cell_type": "code",
      "metadata": {
        "colab": {
          "base_uri": "https://localhost:8080/"
        },
        "id": "Q2u6CWYeMXJi",
        "outputId": "b4680bfe-9cac-42a3-dad1-a50b430d2572"
      },
      "source": [
        "train.filter(train.Reco_Insurance_Type=='Individual').groupby('Response').mean().show()"
      ],
      "execution_count": null,
      "outputs": [
        {
          "output_type": "stream",
          "text": [
            "+--------+------------------+------------------+-----------------+-----------------+------------------------+--------------------+------------------------+-------------+-------------+\n",
            "|Response|           avg(ID)|  avg(Region_Code)|   avg(Upper_Age)|   avg(Lower_Age)|avg(Holding_Policy_Type)|avg(Reco_Policy_Cat)|avg(Reco_Policy_Premium)|avg(Response)|avg(Age_diff)|\n",
            "+--------+------------------+------------------+-----------------+-----------------+------------------------+--------------------+------------------------+-------------+-------------+\n",
            "|       1|25587.823547717842|1745.5951244813277|42.98226141078838|42.98226141078838|      1.4030082987551866|  16.337033195020748|      12220.413692946058|          1.0|          0.0|\n",
            "|       0| 25478.65257638529| 1732.827874158467|42.83509192128431|42.83509192128431|      1.3814733298808908|  14.646426721905748|      12192.527382185397|          0.0|          0.0|\n",
            "+--------+------------------+------------------+-----------------+-----------------+------------------------+--------------------+------------------------+-------------+-------------+\n",
            "\n"
          ],
          "name": "stdout"
        }
      ]
    },
    {
      "cell_type": "markdown",
      "metadata": {
        "id": "e7ALFD7QGf-E"
      },
      "source": [
        "**Region_Code** \n",
        "\n",
        "Label encoding with response strike rate "
      ]
    },
    {
      "cell_type": "code",
      "metadata": {
        "id": "TEqpSuUXMBAZ"
      },
      "source": [
        "grouped_region = train.groupby('Region_Code').agg(*[sum(col('Response')),count(col('Response'))])\n",
        "grouped_region = grouped_region.withColumn('Percentage_Response',(col('sum(Response)')/col('count(Response)'))*100)\n",
        "train = train.join(grouped_region.select('Region_Code','Percentage_Response'),on='Region_Code',how='left')\n",
        "test = test.join(grouped_region.select('Region_Code','Percentage_Response'),on='Region_Code',how='left')"
      ],
      "execution_count": null,
      "outputs": []
    },
    {
      "cell_type": "code",
      "metadata": {
        "id": "S8iOEzT-wjPF"
      },
      "source": [
        "feature_columns.append('Percentage_Response')"
      ],
      "execution_count": null,
      "outputs": []
    },
    {
      "cell_type": "markdown",
      "metadata": {
        "id": "eAExkJH-H5ey"
      },
      "source": [
        "Impute missing values"
      ]
    },
    {
      "cell_type": "code",
      "metadata": {
        "colab": {
          "base_uri": "https://localhost:8080/"
        },
        "id": "pirMWW3_MRfi",
        "outputId": "db912e65-6f40-4808-d1f2-6e307c7a6032"
      },
      "source": [
        "amount_missing_train = train.select([(count(when(isnan(c) | col(c).isNull(), c))/count(lit(1))).alias(c) for c in train.columns])\n",
        "amount_missing_train.show()"
      ],
      "execution_count": null,
      "outputs": [
        {
          "output_type": "stream",
          "text": [
            "+-----------+---+---------+-----------------+-------------------+---------+---------+---------+----------------+-----------------------+-------------------+---------------+-------------------+--------+--------+-------------------+\n",
            "|Region_Code| ID|City_Code|Accomodation_Type|Reco_Insurance_Type|Upper_Age|Lower_Age|Is_Spouse|Health Indicator|Holding_Policy_Duration|Holding_Policy_Type|Reco_Policy_Cat|Reco_Policy_Premium|Response|Age_diff|Percentage_Response|\n",
            "+-----------+---+---------+-----------------+-------------------+---------+---------+---------+----------------+-----------------------+-------------------+---------------+-------------------+--------+--------+-------------------+\n",
            "|        0.0|0.0|      0.0|              0.0|                0.0|      0.0|      0.0|      0.0|             0.0|                    0.0|                0.0|            0.0|                0.0|     0.0|     0.0|                0.0|\n",
            "+-----------+---+---------+-----------------+-------------------+---------+---------+---------+----------------+-----------------------+-------------------+---------------+-------------------+--------+--------+-------------------+\n",
            "\n"
          ],
          "name": "stdout"
        }
      ]
    },
    {
      "cell_type": "code",
      "metadata": {
        "colab": {
          "base_uri": "https://localhost:8080/"
        },
        "id": "DAqCRUUIMjzG",
        "outputId": "b72f21d4-0552-4f7d-9cbf-f2e3ee16a096"
      },
      "source": [
        "amount_missing_test = test.select([(count(when(isnan(c) | col(c).isNull(), c))/count(lit(1))).alias(c) for c in test.columns])\n",
        "amount_missing_test.show()"
      ],
      "execution_count": null,
      "outputs": [
        {
          "output_type": "stream",
          "text": [
            "+-----------+---+---------+-----------------+-------------------+---------+---------+---------+----------------+-----------------------+-------------------+---------------+-------------------+--------+--------------------+\n",
            "|Region_Code| ID|City_Code|Accomodation_Type|Reco_Insurance_Type|Upper_Age|Lower_Age|Is_Spouse|Health Indicator|Holding_Policy_Duration|Holding_Policy_Type|Reco_Policy_Cat|Reco_Policy_Premium|Age_diff| Percentage_Response|\n",
            "+-----------+---+---------+-----------------+-------------------+---------+---------+---------+----------------+-----------------------+-------------------+---------------+-------------------+--------+--------------------+\n",
            "|        0.0|0.0|      0.0|              0.0|                0.0|      0.0|      0.0|      0.0|             0.0|                    0.0|                0.0|            0.0|                0.0|     0.0|0.012795230451731254|\n",
            "+-----------+---+---------+-----------------+-------------------+---------+---------+---------+----------------+-----------------------+-------------------+---------------+-------------------+--------+--------------------+\n",
            "\n"
          ],
          "name": "stdout"
        }
      ]
    },
    {
      "cell_type": "code",
      "metadata": {
        "id": "XOKWMJhum_GE"
      },
      "source": [
        "percentage_response = train.select('Percentage_Response').collect()\n",
        "percentage_response = [float(x[0]) for x in percentage_response]"
      ],
      "execution_count": null,
      "outputs": []
    },
    {
      "cell_type": "code",
      "metadata": {
        "id": "cxzCzJwcnyJz"
      },
      "source": [
        "df_stats = train.select(_mean(col('Percentage_Response')).alias('mean')).collect()\n",
        "mean = df_stats[0]['mean']\n",
        "test = test.fillna({'Percentage_Response':mean})"
      ],
      "execution_count": null,
      "outputs": []
    },
    {
      "cell_type": "markdown",
      "metadata": {
        "id": "qzH-emwspoaa"
      },
      "source": [
        "## Reco Policy Cat"
      ]
    },
    {
      "cell_type": "code",
      "metadata": {
        "id": "iC8kFT4GNxVN"
      },
      "source": [
        "grouped_Reco_Policy_cat = train.groupby('Reco_Policy_Cat').agg(*[sum(col('Response')),count(col('Response'))])\n",
        "grouped_Reco_Policy_cat = grouped_Reco_Policy_cat.withColumn('Percentage_Response_Reco_Policy_Cat',(col('sum(Response)')/col('count(Response)'))*100)\n",
        "train = train.join(grouped_Reco_Policy_cat.select('Reco_Policy_Cat','Percentage_Response_Reco_Policy_Cat'),on='Reco_Policy_Cat',how='left')\n",
        "test = test.join(grouped_Reco_Policy_cat.select('Reco_Policy_Cat','Percentage_Response_Reco_Policy_Cat'),on='Reco_Policy_Cat',how='left')"
      ],
      "execution_count": null,
      "outputs": []
    },
    {
      "cell_type": "code",
      "metadata": {
        "id": "oEAdMLVlwooV"
      },
      "source": [
        "feature_columns.append('Percentage_Response_Reco_Policy_Cat')"
      ],
      "execution_count": null,
      "outputs": []
    },
    {
      "cell_type": "markdown",
      "metadata": {
        "id": "38gIX4wup8Li"
      },
      "source": [
        "# City Code"
      ]
    },
    {
      "cell_type": "code",
      "metadata": {
        "id": "FH6-Z896H1Jp"
      },
      "source": [
        "groupedTrain = train.groupBy('City_Code').agg(*[countDistinct('Region_Code').alias('City_Wise_Unique_Region_Code_Count'),count('Region_Code'),sum('Response')])\n",
        "groupedTrain = groupedTrain.withColumn('Percentage_Response_City_Code',(col('sum(Response)')/col('count(Region_Code)'))*100)\n",
        "train = train.join(groupedTrain.select('City_Code','City_Wise_Unique_Region_Code_Count','Percentage_Response_City_Code'),on='City_Code',how='left')\n",
        "test = test.join(groupedTrain.select('City_Code','City_Wise_Unique_Region_Code_Count','Percentage_Response_City_Code'),on='City_Code',how='left')\n",
        "feature_columns.append('Percentage_Response_City_Code')\n",
        "feature_columns.append('City_Wise_Unique_Region_Code_Count')"
      ],
      "execution_count": null,
      "outputs": []
    },
    {
      "cell_type": "markdown",
      "metadata": {
        "id": "JBL8zfnRvQQI"
      },
      "source": [
        "## Holding_Policy_Type"
      ]
    },
    {
      "cell_type": "code",
      "metadata": {
        "id": "RsadnqCieh3L"
      },
      "source": [
        "mapping = {'0.0':'cat_0','1.0':'cat_1','2.0':'cat_2','3.0':'cat_3','4.0':'cat_4'}\n",
        "train = train.withColumn(\"Holding_Policy_Type\",train[\"Holding_Policy_Type\"].cast(StringType()))\n",
        "test = test.withColumn(\"Holding_Policy_Type\",test[\"Holding_Policy_Type\"].cast(StringType()))\n",
        "train = train.replace(to_replace=mapping,subset=['Holding_Policy_Type'])\n",
        "test = test.replace(to_replace=mapping,subset=['Holding_Policy_Type']) "
      ],
      "execution_count": null,
      "outputs": []
    },
    {
      "cell_type": "markdown",
      "metadata": {
        "id": "i_mlagVzz-n3"
      },
      "source": [
        "# Holding_Policy_Duration"
      ]
    },
    {
      "cell_type": "code",
      "metadata": {
        "id": "iwJkgD_myWHG"
      },
      "source": [
        "mapping = {'0':'cat_0','1.0':'cat_1','2.0':'cat_2','3.0':'cat_3','4.0':'cat_4',\n",
        "           '5.0':'cat_5','6.0':'cat_6','7.0':'cat_7','8.0':'cat_8','9.0':'cat_9'\n",
        "           ,'10.0':'cat_10','11.0':'cat_11','12.0':'cat_12','13.0':'cat_13',\n",
        "           '14.0':'cat_14','14+':'cat_15'}\n",
        "train = train.withColumn(\"Holding_Policy_Duration\",train[\"Holding_Policy_Duration\"].cast(StringType()))\n",
        "test = test.withColumn(\"Holding_Policy_Duration\",test[\"Holding_Policy_Duration\"].cast(StringType()))\n",
        "train = train.replace(to_replace=mapping,subset=['Holding_Policy_Duration'])\n",
        "test = test.replace(to_replace=mapping,subset=['Holding_Policy_Duration']) "
      ],
      "execution_count": null,
      "outputs": []
    },
    {
      "cell_type": "markdown",
      "metadata": {
        "id": "IP7sUtEaJOY1"
      },
      "source": [
        "# OneHotEncoder"
      ]
    },
    {
      "cell_type": "code",
      "metadata": {
        "id": "rHeoeCthIiV2"
      },
      "source": [
        "categoricalColumns = ['Accomodation_Type','Is_Spouse', 'Health Indicator', 'Holding_Policy_Type','Holding_Policy_Duration']"
      ],
      "execution_count": null,
      "outputs": []
    },
    {
      "cell_type": "code",
      "metadata": {
        "id": "b1jutC0uWv66"
      },
      "source": [
        "feature_columns.append('Reco_Policy_Premium')"
      ],
      "execution_count": null,
      "outputs": []
    },
    {
      "cell_type": "code",
      "metadata": {
        "id": "_sQPHWk9Ji17"
      },
      "source": [
        "for catCol in categoricalColumns:\n",
        "  categories = train.select(catCol).distinct().rdd.flatMap(lambda x : x).collect()\n",
        "  categories.sort()\n",
        "  for category in categories[:-1]:\n",
        "      function = udf(lambda item: 1 if item == category else 0, IntegerType())\n",
        "      new_column_name = catCol+'_'+ str(category)\n",
        "      train = train.withColumn(new_column_name, function(col(catCol)))\n",
        "      test = test.withColumn(new_column_name, function(col(catCol)))\n",
        "      feature_columns.append(new_column_name)"
      ],
      "execution_count": null,
      "outputs": []
    },
    {
      "cell_type": "markdown",
      "metadata": {
        "id": "NM2_8WEvWFBC"
      },
      "source": [
        "Vector Assembler and min max scaler"
      ]
    },
    {
      "cell_type": "code",
      "metadata": {
        "id": "VmQPeay1P4MD"
      },
      "source": [
        "assembler = VectorAssembler(inputCols=feature_columns, outputCol=\"features\")\n",
        "scaler = MinMaxScaler(inputCol=\"features\", outputCol=\"features_scaled\")\n",
        "\n",
        "pipeline = Pipeline(stages=[assembler , scaler])\n",
        "scaler_model = pipeline.fit(train)\n",
        "train = scaler_model.transform(train)\n",
        "scaler_model = pipeline.fit(test)\n",
        "test = scaler_model.transform(test)"
      ],
      "execution_count": null,
      "outputs": []
    },
    {
      "cell_type": "markdown",
      "metadata": {
        "id": "sGL6y8BgZMnm"
      },
      "source": [
        "Random Forest Model"
      ]
    },
    {
      "cell_type": "code",
      "metadata": {
        "id": "SUa8jcCXgP3o"
      },
      "source": [
        "train = train.withColumnRenamed(\"Response\", \"label\")"
      ],
      "execution_count": null,
      "outputs": []
    },
    {
      "cell_type": "markdown",
      "metadata": {
        "id": "yCJ5cpQZ1C-4"
      },
      "source": [
        "## Class weights"
      ]
    },
    {
      "cell_type": "code",
      "metadata": {
        "id": "f18AQqj-1GUc"
      },
      "source": [
        "# balancingRatio = train.filter(col('label') == 1).count() / train.count()\n",
        "# calculateWeights = udf(lambda x: 1 * balancingRatio if x == 0 else (1 * (1.0 - balancingRatio)), DoubleType())\n",
        "# weightedDataset = train.withColumn('classWeightCol', calculateWeights('label'))"
      ],
      "execution_count": null,
      "outputs": []
    },
    {
      "cell_type": "code",
      "metadata": {
        "id": "XzFy7PwtJjn-"
      },
      "source": [
        "# (trainingData, testData) = weightedDataset.randomSplit([0.8, 0.2])"
      ],
      "execution_count": null,
      "outputs": []
    },
    {
      "cell_type": "markdown",
      "metadata": {
        "id": "FNwYLVznysZy"
      },
      "source": [
        "Gradient - Boosted Tree Classifier"
      ]
    },
    {
      "cell_type": "code",
      "metadata": {
        "id": "3sftVnwt2BMO"
      },
      "source": [
        "from pyspark.ml.classification import GBTClassifier\n",
        "gbt = GBTClassifier(maxIter=10, labelCol=\"label\", featuresCol=\"features_scaled\",weightCol='classWeightCol')\n",
        "gbtModel = gbt.fit(trainingData)\n",
        "predictions = gbtModel.transform(testData)"
      ],
      "execution_count": null,
      "outputs": []
    },
    {
      "cell_type": "code",
      "metadata": {
        "id": "mbctzh4QyWMb",
        "colab": {
          "base_uri": "https://localhost:8080/"
        },
        "outputId": "4ec97628-9320-4173-db5a-2714b812749c"
      },
      "source": [
        "from pyspark.ml.evaluation import BinaryClassificationEvaluator\n",
        "evaluator = BinaryClassificationEvaluator()\n",
        "print(\"Test Area Under ROC: \" + str(evaluator.evaluate(predictions, {evaluator.metricName: \"areaUnderROC\"})))"
      ],
      "execution_count": null,
      "outputs": [
        {
          "output_type": "stream",
          "text": [
            "Test Area Under ROC: 0.7454930582300876\n"
          ],
          "name": "stdout"
        }
      ]
    },
    {
      "cell_type": "markdown",
      "metadata": {
        "id": "GZsPaUjHKMrW"
      },
      "source": [
        "# Model fit entire train dataset"
      ]
    },
    {
      "cell_type": "markdown",
      "metadata": {
        "id": "nX1zS4vOJoyA"
      },
      "source": [
        "# Down Sampling majority class"
      ]
    },
    {
      "cell_type": "code",
      "metadata": {
        "colab": {
          "base_uri": "https://localhost:8080/"
        },
        "id": "8pTycgUSQwjH",
        "outputId": "dd551e6c-9212-4de4-c0e3-8e706e73cb9b"
      },
      "source": [
        "major_df = train.filter(col(\"label\") == 0)\n",
        "minor_df = train.filter(col(\"label\") == 1)\n",
        "ratio = int(major_df.count()/minor_df.count())\n",
        "print(\"ratio: {}\".format(ratio))\n",
        "sampled_majority_df = major_df.sample(False, 1/ratio)\n",
        "combined_train = sampled_majority_df.unionAll(minor_df)\n",
        "balancingRatio = combined_train.filter(col('label') == 1).count() / combined_train.count()\n",
        "calculateWeights = udf(lambda x: 1 * balancingRatio if x == 0 else (1 * (1.0 - balancingRatio)), DoubleType())\n",
        "weightedDataset = combined_train.withColumn('classWeightCol', calculateWeights('label'))"
      ],
      "execution_count": null,
      "outputs": [
        {
          "output_type": "stream",
          "text": [
            "ratio: 3\n"
          ],
          "name": "stdout"
        }
      ]
    },
    {
      "cell_type": "code",
      "metadata": {
        "id": "y5gCX4v81-7f"
      },
      "source": [
        "gbtModel = gbt.fit(weightedDataset)\n",
        "gbt_cv_predictions = gbtModel.transform(test)"
      ],
      "execution_count": null,
      "outputs": []
    },
    {
      "cell_type": "code",
      "metadata": {
        "id": "XaDUU0cZKeIB"
      },
      "source": [
        "gbt_cv_predictions = gbt_cv_predictions.withColumnRenamed('prediction','Response')\n",
        "dff = gbt_cv_predictions.select('ID','Response').toPandas()\n",
        "dff.to_csv('submission_final_GBT_With_downsampling.csv',index=False)"
      ],
      "execution_count": null,
      "outputs": []
    },
    {
      "cell_type": "markdown",
      "metadata": {
        "id": "3LS6taEoKiyP"
      },
      "source": [
        "Cross Validation "
      ]
    },
    {
      "cell_type": "code",
      "metadata": {
        "id": "YThiv1q3PhMJ"
      },
      "source": [
        "# from pyspark.ml.tuning import ParamGridBuilder, CrossValidator\n",
        "# paramGrid = (ParamGridBuilder()\n",
        "#              .addGrid(gbt.maxDepth, [2, 4, 6])\n",
        "#              .addGrid(gbt.maxBins, [20, 30])\n",
        "#              .addGrid(gbt.maxIter, [10, 15])\n",
        "#              .build())\n",
        "# evaluator = BinaryClassificationEvaluator()\n",
        "# gbt = GBTClassifier(maxIter=10, labelCol=\"label\", featuresCol=\"features_scaled\",weightCol='classWeightCol')\n",
        "# cv = CrossValidator(estimator=gbt, estimatorParamMaps=paramGrid, evaluator=evaluator, numFolds=5)\n",
        "# # Run cross validations.\n",
        "# cvModel = cv.fit(weightedDataset)"
      ],
      "execution_count": null,
      "outputs": []
    },
    {
      "cell_type": "code",
      "metadata": {
        "id": "c0cUa_VUJ0jK"
      },
      "source": [
        ""
      ],
      "execution_count": null,
      "outputs": []
    },
    {
      "cell_type": "code",
      "metadata": {
        "id": "tqkSdUeI3sC6"
      },
      "source": [
        ""
      ],
      "execution_count": null,
      "outputs": []
    },
    {
      "cell_type": "code",
      "metadata": {
        "id": "r_UB8glePhI7"
      },
      "source": [
        ""
      ],
      "execution_count": null,
      "outputs": []
    },
    {
      "cell_type": "code",
      "metadata": {
        "id": "ubKMJYYPPhEw"
      },
      "source": [
        ""
      ],
      "execution_count": null,
      "outputs": []
    },
    {
      "cell_type": "code",
      "metadata": {
        "id": "SurCSwiPPg2m"
      },
      "source": [
        ""
      ],
      "execution_count": null,
      "outputs": []
    },
    {
      "cell_type": "code",
      "metadata": {
        "id": "lRnQNq64TZMt"
      },
      "source": [
        ""
      ],
      "execution_count": null,
      "outputs": []
    }
  ]
}